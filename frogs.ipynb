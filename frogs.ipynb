{
 "cells": [
  {
   "cell_type": "code",
   "execution_count": 5,
   "id": "49a33698",
   "metadata": {},
   "outputs": [],
   "source": [
    "#from datasets import load_dataset\n",
    "from PIL import Image\n",
    "import os"
   ]
  },
  {
   "cell_type": "code",
   "execution_count": 8,
   "id": "9e58f7ed",
   "metadata": {},
   "outputs": [],
   "source": [
    "import os\n",
    "#converting all .webp to .png by iterating through dataset folder\n",
    "folderPath = r\"C:\\Users\\Admin\\PythonScripts\\RohitPSACM\\synthetic-pepe\"\n",
    "count = 1\n",
    "\n",
    "#iterating\n",
    "\n",
    "for filename in os.listdir(folderPath):\n",
    "    if filename.lower().endswith('.webp'):\n",
    "        \n",
    "        #adding folderpath to imgPath\n",
    "        webpImgPath = os.path.join(folderPath, filename)\n",
    "        webpImg = Image.open(webpImgPath)\n",
    "\n",
    "        #conversion\n",
    "\n",
    "        outPutPath = f\"C:/Users/Admin/PythonScripts/RohitPSACM/synthetic-pepe/isPepe{count}.png\"\n",
    "        webpImg.save(outPutPath, \"PNG\")\n",
    "        count += 1\n",
    "\n",
    "\n"
   ]
  },
  {
   "cell_type": "code",
   "execution_count": 9,
   "id": "b34e29d2",
   "metadata": {},
   "outputs": [],
   "source": [
    "import os\n",
    "#converting all .jpeg to .png by iterating through dataset folder\n",
    "folderPath = r\"C:\\Users\\Admin\\PythonScripts\\RohitPSACM\\synthetic-pepe\"\n",
    "count = 346\n",
    "\n",
    "#iterating\n",
    "\n",
    "for filename in os.listdir(folderPath):\n",
    "    if filename.lower().endswith('.jpeg'):\n",
    "        \n",
    "        #adding folderpath to imgPath\n",
    "        webpImgPath = os.path.join(folderPath, filename)\n",
    "        webpImg = Image.open(webpImgPath)\n",
    "\n",
    "        #conversion\n",
    "\n",
    "        outPutPath = f\"C:/Users/Admin/PythonScripts/RohitPSACM/synthetic-pepe/isPepe{count}.png\"\n",
    "        webpImg.save(outPutPath, \"PNG\")\n",
    "        count += 1"
   ]
  },
  {
   "cell_type": "code",
   "execution_count": 14,
   "id": "ff604b82",
   "metadata": {},
   "outputs": [
    {
     "name": "stdout",
     "output_type": "stream",
     "text": [
      "{'md', 'png', 'jpeg', 'webp', 'csv', 'jpg', 'git', 'gitattributes'}\n"
     ]
    }
   ],
   "source": [
    "#checking if any other ext is present in the folder\n",
    "import re\n",
    "extensions = set([])\n",
    "\n",
    "pattern = r'\\.(\\w+)\\b'\n",
    "\n",
    "for filename in os.listdir(folderPath):\n",
    "    extensions.update(re.findall(pattern, filename))\n",
    "\n",
    "print(extensions)"
   ]
  },
  {
   "cell_type": "code",
   "execution_count": 15,
   "id": "56a0049c",
   "metadata": {},
   "outputs": [],
   "source": [
    "#deleting all jpeg, webp files\n",
    "\n",
    "image_extensions = [\".jpeg\", \".webp\"]\n",
    "\n",
    "for filename in os.listdir(folderPath):\n",
    "    if any(filename.lower().endswith(ext) for ext in image_extensions):\n",
    "        # Construct the full file path\n",
    "        filepath = os.path.join(folderPath, filename)\n",
    "        os.remove(filepath)"
   ]
  },
  {
   "cell_type": "code",
   "execution_count": 16,
   "id": "9dbab0ec",
   "metadata": {},
   "outputs": [],
   "source": [
    "#I apparently missed .jpg T~T\n",
    "\n",
    "count = 499\n",
    "\n",
    "#iterating\n",
    "\n",
    "for filename in os.listdir(folderPath):\n",
    "    if filename.lower().endswith('.jpg'):\n",
    "        \n",
    "        #adding folderpath to imgPath\n",
    "        webpImgPath = os.path.join(folderPath, filename)\n",
    "        webpImg = Image.open(webpImgPath)\n",
    "\n",
    "        #conversion\n",
    "\n",
    "        outPutPath = f\"C:/Users/Admin/PythonScripts/RohitPSACM/synthetic-pepe/isPepe{count}.png\"\n",
    "        webpImg.save(outPutPath, \"PNG\")\n",
    "        count += 1"
   ]
  },
  {
   "cell_type": "code",
   "execution_count": 17,
   "id": "dbc9a816",
   "metadata": {},
   "outputs": [],
   "source": [
    "#to be consistent:\n",
    "count = 503\n",
    "\n",
    "#iterating\n",
    "\n",
    "for filename in os.listdir(folderPath):\n",
    "    if filename.lower().endswith('.png'):\n",
    "        \n",
    "        #adding folderpath to imgPath\n",
    "        webpImgPath = os.path.join(folderPath, filename)\n",
    "        webpImg = Image.open(webpImgPath)\n",
    "\n",
    "        #conversion\n",
    "\n",
    "        outPutPath = f\"C:/Users/Admin/PythonScripts/RohitPSACM/synthetic-pepe/isPepe{count}.png\"\n",
    "        webpImg.save(outPutPath, \"PNG\")\n",
    "        count += 1\n",
    "\n",
    "#deleted all copies"
   ]
  },
  {
   "cell_type": "code",
   "execution_count": 18,
   "id": "21ec3041",
   "metadata": {},
   "outputs": [
    {
     "name": "stdout",
     "output_type": "stream",
     "text": [
      "{'md', 'png', 'csv', 'git', 'gitattributes'}\n"
     ]
    }
   ],
   "source": [
    "extensions = set([])\n",
    "\n",
    "pattern = r'\\.(\\w+)\\b'\n",
    "\n",
    "for filename in os.listdir(folderPath):\n",
    "    extensions.update(re.findall(pattern, filename))\n",
    "\n",
    "print(extensions)\n",
    "\n",
    "#deletion success verified."
   ]
  },
  {
   "cell_type": "code",
   "execution_count": 9,
   "id": "b6859e1f",
   "metadata": {},
   "outputs": [
    {
     "name": "stdout",
     "output_type": "stream",
     "text": [
      "{'png'}\n"
     ]
    }
   ],
   "source": [
    "import re\n",
    "outPutPath = r\"C:/Users/Admin/PythonScripts/RohitPSACM/train/not_pepe\"\n",
    "extensions = set([])\n",
    "\n",
    "pattern = r'\\.(\\w+)\\b'\n",
    "\n",
    "for filename in os.listdir(outPutPath):\n",
    "    extensions.update(re.findall(pattern, filename))\n",
    "\n",
    "print(extensions)\n",
    "\n",
    "#deletion success verified."
   ]
  },
  {
   "cell_type": "code",
   "execution_count": 10,
   "id": "0b6134fc",
   "metadata": {},
   "outputs": [],
   "source": [
    "import os\n",
    "from PIL import Image\n",
    "trainFolderPath = r\"C:\\Users\\Admin\\PythonScripts\\RohitPSACM\\val\\notPepe\"\n",
    "\n",
    "count = 0\n",
    "\n",
    "#iterating\n",
    "\n",
    "for filename in os.listdir(trainFolderPath):\n",
    "        #adding folderpath to imgPath\n",
    "        webpImgPath = os.path.join(trainFolderPath, filename)\n",
    "        webpImg = Image.open(webpImgPath)\n",
    "\n",
    "        #conversion\n",
    "\n",
    "        outPutPath = f\"C:/Users/Admin/PythonScripts/RohitPSACM/val/not_pepe/isNotPepe{count}.png\"\n",
    "        webpImg.save(outPutPath, \"PNG\")\n",
    "        count += 1"
   ]
  },
  {
   "cell_type": "code",
   "execution_count": 11,
   "id": "36339590",
   "metadata": {},
   "outputs": [
    {
     "data": {
      "text/plain": [
       "False"
      ]
     },
     "execution_count": 11,
     "metadata": {},
     "output_type": "execute_result"
    }
   ],
   "source": [
    "import torch\n",
    "import torch.nn as nn\n",
    "import torch.optim as optim\n",
    "from torchvision import datasets, transforms, models\n",
    "import os\n",
    "\n",
    "torch.cuda.is_available()"
   ]
  },
  {
   "cell_type": "code",
   "execution_count": 23,
   "id": "00b2e00e",
   "metadata": {},
   "outputs": [
    {
     "name": "stdout",
     "output_type": "stream",
     "text": [
      "Resizing complete!\n"
     ]
    }
   ],
   "source": [
    "from PIL import Image\n",
    "import os\n",
    "\n",
    "# Path to the folder containing images\n",
    "folder_path = r\"C:/Users/Admin/PythonScripts/RohitPSACM/val/not_pepe\"\n",
    "\n",
    "# Desired dimensions\n",
    "target_size = (224, 224)\n",
    "\n",
    "# Iterate over each image in the folder\n",
    "for filename in os.listdir(folder_path):\n",
    "    if filename.endswith(\".jpg\") or filename.endswith(\".png\"):  # Adjust file extensions as needed\n",
    "        # Open the image\n",
    "        img_path = os.path.join(folder_path, filename)\n",
    "        img = Image.open(img_path)\n",
    "        \n",
    "        # Resize the image\n",
    "        img_resized = img.resize(target_size, Image.Resampling.LANCZOS)\n",
    "        \n",
    "        # Save the resized image (overwrite the original)\n",
    "        img_resized.save(img_path)\n",
    "\n",
    "print(\"Resizing complete!\")"
   ]
  },
  {
   "cell_type": "code",
   "execution_count": 22,
   "id": "5f1e9d61",
   "metadata": {},
   "outputs": [
    {
     "name": "stdout",
     "output_type": "stream",
     "text": [
      "Resizing complete!\n"
     ]
    }
   ],
   "source": [
    "from PIL import Image\n",
    "import os\n",
    "\n",
    "# Path to the folder containing images\n",
    "folder_path = \"C:\\\\Users\\\\Admin\\\\PythonScripts\\\\RohitPSACM\\\\train\\\\not_pepe\"\n",
    "\n",
    "# Desired dimensions\n",
    "target_size = (224, 224)\n",
    "\n",
    "# Iterate over each image in the folder\n",
    "for filename in os.listdir(folder_path):\n",
    "    if filename.endswith(\".jpg\") or filename.endswith(\".png\"):  # Adjust file extensions as needed\n",
    "        # Open the image\n",
    "        img_path = os.path.join(folder_path, filename)\n",
    "        img = Image.open(img_path)\n",
    "        \n",
    "        # Resize the image\n",
    "        img_resized = img.resize(target_size, Image.Resampling.LANCZOS)\n",
    "        \n",
    "        # Save the resized image (overwrite the original)\n",
    "        img_resized.save(img_path)\n",
    "\n",
    "print(\"Resizing complete!\")"
   ]
  },
  {
   "cell_type": "code",
   "execution_count": 21,
   "id": "a97851b2",
   "metadata": {},
   "outputs": [
    {
     "name": "stdout",
     "output_type": "stream",
     "text": [
      "Resizing complete!\n"
     ]
    }
   ],
   "source": [
    "from PIL import Image\n",
    "import os\n",
    "\n",
    "# Path to the folder containing images\n",
    "folder_path = \"C:\\\\Users\\\\Admin\\\\PythonScripts\\\\RohitPSACM\\\\train\\\\Pepe\"\n",
    "\n",
    "# Desired dimensions\n",
    "target_size = (224, 224)\n",
    "\n",
    "# Iterate over each image in the folder\n",
    "for filename in os.listdir(folder_path):\n",
    "    if filename.endswith(\".jpg\") or filename.endswith(\".png\"):  # Adjust file extensions as needed\n",
    "        # Open the image\n",
    "        img_path = os.path.join(folder_path, filename)\n",
    "        img = Image.open(img_path)\n",
    "        \n",
    "        # Resize the image\n",
    "        img_resized = img.resize(target_size, Image.Resampling.LANCZOS)\n",
    "        \n",
    "        # Save the resized image (overwrite the original)\n",
    "        img_resized.save(img_path)\n",
    "\n",
    "print(\"Resizing complete!\")"
   ]
  },
  {
   "cell_type": "code",
   "execution_count": 20,
   "id": "cf8aba4c",
   "metadata": {},
   "outputs": [
    {
     "name": "stdout",
     "output_type": "stream",
     "text": [
      "Resizing complete!\n"
     ]
    }
   ],
   "source": [
    "folder_path = \"C:\\\\Users\\\\Admin\\\\PythonScripts\\\\RohitPSACM\\\\val\\\\Pepe\"\n",
    "\n",
    "# Desired dimensions\n",
    "target_size = (224, 224)\n",
    "\n",
    "# Iterate over each image in the folder\n",
    "for filename in os.listdir(folder_path):\n",
    "    if filename.endswith(\".jpg\") or filename.endswith(\".png\"):  # Adjust file extensions as needed\n",
    "        # Open the image\n",
    "        img_path = os.path.join(folder_path, filename)\n",
    "        img = Image.open(img_path)\n",
    "        \n",
    "        # Resize the image\n",
    "        img_resized = img.resize(target_size, Image.Resampling.LANCZOS)\n",
    "        \n",
    "        # Save the resized image (overwrite the original)\n",
    "        img_resized.save(img_path)\n",
    "\n",
    "print(\"Resizing complete!\")"
   ]
  },
  {
   "cell_type": "code",
   "execution_count": 4,
   "id": "5affb883",
   "metadata": {},
   "outputs": [
    {
     "name": "stdout",
     "output_type": "stream",
     "text": [
      "Resizing complete!\n"
     ]
    }
   ],
   "source": [
    "import os\n",
    "from PIL import Image\n",
    "folder_path = \"C:\\\\Users\\\\Admin\\\\PythonScripts\\\\RohitPSACM\\\\test\\\\not_pepe\"\n",
    "\n",
    "# Desired dimensions\n",
    "target_size = (224, 224)\n",
    "\n",
    "# Iterate over each image in the folder\n",
    "for filename in os.listdir(folder_path):\n",
    "    if filename.endswith(\".jpg\") or filename.endswith(\".png\"):  # Adjust file extensions as needed\n",
    "        # Open the image\n",
    "        img_path = os.path.join(folder_path, filename)\n",
    "        img = Image.open(img_path)\n",
    "        \n",
    "        # Resize the image\n",
    "        img_resized = img.resize(target_size, Image.Resampling.LANCZOS)\n",
    "        \n",
    "        # Save the resized image (overwrite the original)\n",
    "        img_resized.save(img_path)\n",
    "\n",
    "print(\"Resizing complete!\")"
   ]
  }
 ],
 "metadata": {
  "kernelspec": {
   "display_name": "Python 3 (ipykernel)",
   "language": "python",
   "name": "python3"
  },
  "language_info": {
   "codemirror_mode": {
    "name": "ipython",
    "version": 3
   },
   "file_extension": ".py",
   "mimetype": "text/x-python",
   "name": "python",
   "nbconvert_exporter": "python",
   "pygments_lexer": "ipython3",
   "version": "3.11.5"
  }
 },
 "nbformat": 4,
 "nbformat_minor": 5
}
